{
 "cells": [
  {
   "cell_type": "code",
   "execution_count": 83,
   "metadata": {},
   "outputs": [],
   "source": [
    "import torchvision\n",
    "import torchvision.transforms as transforms\n",
    "import torch\n",
    "from matplotlib import pyplot as plt\n",
    "import numpy as np"
   ]
  },
  {
   "cell_type": "code",
   "execution_count": 9,
   "metadata": {},
   "outputs": [
    {
     "name": "stdout",
     "output_type": "stream",
     "text": [
      "trainset: 60000\n",
      "testset: 10000\n"
     ]
    }
   ],
   "source": [
    "transform = transforms.ToTensor()\n",
    "\n",
    "batch_size = 128\n",
    "\n",
    "trainset = torchvision.datasets.MNIST(\n",
    "    root=\"../data\", train=True, download=True, transform=transform\n",
    ")\n",
    "trainloader = torch.utils.data.DataLoader(\n",
    "    trainset, batch_size=batch_size, shuffle=True, num_workers=2\n",
    ")\n",
    "\n",
    "testset = torchvision.datasets.MNIST(\n",
    "    root=\"../data\", train=False, download=True, transform=transform\n",
    ")\n",
    "testloader = torch.utils.data.DataLoader(\n",
    "    testset, batch_size=batch_size, shuffle=False, num_workers=2\n",
    ")\n",
    "\n",
    "print(\"trainset:\", len(trainset))\n",
    "print(\"testset:\", len(testset))\n"
   ]
  },
  {
   "cell_type": "code",
   "execution_count": 82,
   "metadata": {},
   "outputs": [
    {
     "name": "stdout",
     "output_type": "stream",
     "text": [
      "Shape: 28, 28\n"
     ]
    }
   ],
   "source": [
    "# Shape of an example\n",
    "print(f\"Shape: {len(trainset[0][0][0])}, {len(trainset[0][0][0][0])}\")"
   ]
  },
  {
   "cell_type": "code",
   "execution_count": 34,
   "metadata": {},
   "outputs": [
    {
     "data": {
      "text/plain": [
       "{0, 1, 2, 3, 4, 5, 6, 7, 8, 9}"
      ]
     },
     "execution_count": 34,
     "metadata": {},
     "output_type": "execute_result"
    }
   ],
   "source": [
    "# All labels in training set\n",
    "classes = set([y for _, y in trainset])\n",
    "classes"
   ]
  },
  {
   "cell_type": "code",
   "execution_count": 79,
   "metadata": {},
   "outputs": [],
   "source": [
    "# Function to show images\n",
    "def show_imgs(imgs):\n",
    "    imgs_data = [img for img, _ in imgs]\n",
    "    imgs_label = [label for _, label in imgs]\n",
    "    plt.figure(figsize=(10, 2))\n",
    "    for i, img in enumerate(imgs_data):\n",
    "        plt.subplot(1, len(imgs_data), i+1)\n",
    "        plt.imshow(img.reshape(28,28), cmap='gray')\n",
    "        plt.axis('off')\n",
    "    plt.tight_layout()\n",
    "    plt.show()\n",
    "\n",
    "    print(\"Labels:\", imgs_label)"
   ]
  },
  {
   "cell_type": "code",
   "execution_count": 80,
   "metadata": {},
   "outputs": [
    {
     "data": {
      "image/png": "[encoded data removed]",
      "text/plain": [
       "<Figure size 1000x200 with 10 Axes>"
      ]
     },
     "metadata": {},
     "output_type": "display_data"
    },
    {
     "name": "stdout",
     "output_type": "stream",
     "text": [
      "Labels: [5, 0, 4, 1, 9, 2, 1, 3, 1, 4]\n"
     ]
    }
   ],
   "source": [
    "sample_imgs = [trainset[i] for i in range(10)]\n",
    "show_imgs(sample_imgs)"
   ]
  },
  {
   "cell_type": "code",
   "execution_count": 213,
   "metadata": {},
   "outputs": [],
   "source": [
    "class MNISTClassifier:\n",
    "    def __init__(self, loss_fn, input_dim=784, hidden_dim=128, output_dim=10):\n",
    "        self.loss_fn = loss_fn\n",
    "\n",
    "        self.W1 = torch.tensor(np.random.randn(hidden_dim, input_dim))\n",
    "        self.W2 = torch.tensor(np.random.randn(output_dim, hidden_dim))\n",
    "\n",
    "        # internal biases for respective layers\n",
    "        self.w1 = torch.zeros(hidden_dim)\n",
    "        self.w2 = torch.zeros(output_dim)\n",
    "\n",
    "        # prediction biases\n",
    "        self.b1 = torch.zeros(hidden_dim)\n",
    "\n",
    "        self.loss = None\n",
    "\n",
    "    def forward(self, x):\n",
    "        h1 = self.W1 @ x + self.w1\n",
    "        y1 = torch.relu(h1) + self.b1\n",
    "\n",
    "        h2 = self.W2 @ y1 + self.w2\n",
    "        y2 = torch.softmax(h2, dim=0)\n",
    "        return y2\n",
    "\n",
    "    def backward(self, x, y_true):\n",
    "        h1 = self.W1 @ x + self.w1\n",
    "        y1 = torch.relu(h1) + self.b1\n",
    "\n",
    "        h2 = self.W2 @ y1 + self.w2\n",
    "        y2 = torch.softmax(h2, dim=0)\n",
    "\n",
    "        dy2 = y2.clone()\n",
    "        dy2[y_true] -= 1\n",
    "\n",
    "        # Gradients for second layer \n",
    "        dW2 = torch.outer(dy2, y1)\n",
    "        dw2 = dy2\n",
    "        db2 = dy2\n",
    "    \n",
    "        # First layer gradients\n",
    "        dy1 = self.W2.T @ dy2 \n",
    "        dh1 = dy1 * (h1 > 0).float()  # ReLU derivative\n",
    "        dW1 = torch.outer(dh1, x)\n",
    "        dw1 = dh1\n",
    "        db1 = dy1\n",
    "\n",
    "        # Update weights\n",
    "        lr = 0.01\n",
    "        self.W2 -= lr * dW2\n",
    "        self.w2 -= lr * dw2\n",
    "        self.b2 -= lr * db2\n",
    "        self.W1 -= lr * dW1\n",
    "        self.w1 -= lr * dw1\n",
    "        self.b1 -= lr * db1\n",
    "        \n",
    "\n",
    "\n",
    "    def loss(self, y_pred, y_true):\n",
    "        self.loss = self.loss_fn(y_pred, y_true)\n",
    "        return self.loss_fn(y_pred, y_true)"
   ]
  },
  {
   "cell_type": "code",
   "execution_count": 211,
   "metadata": {},
   "outputs": [],
   "source": [
    "# Shape of single exanple\n",
    "trainset[0][0].shape # requires reshaping to 784 features\n",
    "\n",
    "x = np.float64(trainset[0][0].reshape(784))"
   ]
  },
  {
   "cell_type": "code",
   "execution_count": 212,
   "metadata": {},
   "outputs": [
    {
     "name": "stderr",
     "output_type": "stream",
     "text": [
      "/var/folders/qt/p78tc4gx2576_n2rl38t_gwr0000gn/T/ipykernel_19092/3679940817.py:19: DeprecationWarning: __array_wrap__ must accept context and return_scalar arguments (positionally) in the future. (Deprecated NumPy 2.0)\n",
      "  h1 = self.W1 @ x + self.w1\n",
      "/var/folders/qt/p78tc4gx2576_n2rl38t_gwr0000gn/T/ipykernel_19092/3679940817.py:20: DeprecationWarning: __array_wrap__ must accept context and return_scalar arguments (positionally) in the future. (Deprecated NumPy 2.0)\n",
      "  y1 = np.maximum(0, h1) + self.b1\n",
      "/var/folders/qt/p78tc4gx2576_n2rl38t_gwr0000gn/T/ipykernel_19092/3679940817.py:23: DeprecationWarning: __array_wrap__ must accept context and return_scalar arguments (positionally) in the future. (Deprecated NumPy 2.0)\n",
      "  exp_h2 = np.exp(h2)\n"
     ]
    },
    {
     "ename": "TypeError",
     "evalue": "sum() received an invalid combination of arguments - got (out=NoneType, axis=NoneType, ), but expected one of:\n * (*, torch.dtype dtype = None)\n      didn't match because some of the keywords were incorrect: out, axis\n * (tuple of ints dim, bool keepdim = False, *, torch.dtype dtype = None)\n * (tuple of names dim, bool keepdim = False, *, torch.dtype dtype = None)\n",
     "output_type": "error",
     "traceback": [
      "\u001b[0;31m---------------------------------------------------------------------------\u001b[0m",
      "\u001b[0;31mTypeError\u001b[0m                                 Traceback (most recent call last)",
      "Cell \u001b[0;32mIn[212], line 3\u001b[0m\n\u001b[1;32m      1\u001b[0m \u001b[38;5;66;03m# Dummy model (untrained)\u001b[39;00m\n\u001b[1;32m      2\u001b[0m dummy \u001b[38;5;241m=\u001b[39m MNISTClassifier(loss_fn\u001b[38;5;241m=\u001b[39m\u001b[38;5;28;01mNone\u001b[39;00m)\n\u001b[0;32m----> 3\u001b[0m dummy_out \u001b[38;5;241m=\u001b[39m \u001b[43mdummy\u001b[49m\u001b[38;5;241;43m.\u001b[39;49m\u001b[43mforward\u001b[49m\u001b[43m(\u001b[49m\u001b[43mx\u001b[49m\u001b[43m)\u001b[49m \u001b[38;5;66;03m# outputs probabilities for each class\u001b[39;00m\n\u001b[1;32m      4\u001b[0m dummy_out\n",
      "Cell \u001b[0;32mIn[210], line 24\u001b[0m, in \u001b[0;36mMNISTClassifier.forward\u001b[0;34m(self, x)\u001b[0m\n\u001b[1;32m     22\u001b[0m h2 \u001b[38;5;241m=\u001b[39m \u001b[38;5;28mself\u001b[39m\u001b[38;5;241m.\u001b[39mW2 \u001b[38;5;241m@\u001b[39m y1 \u001b[38;5;241m+\u001b[39m \u001b[38;5;28mself\u001b[39m\u001b[38;5;241m.\u001b[39mw2\n\u001b[1;32m     23\u001b[0m exp_h2 \u001b[38;5;241m=\u001b[39m np\u001b[38;5;241m.\u001b[39mexp(h2)\n\u001b[0;32m---> 24\u001b[0m y2 \u001b[38;5;241m=\u001b[39m exp_h2 \u001b[38;5;241m/\u001b[39m \u001b[43mnp\u001b[49m\u001b[38;5;241;43m.\u001b[39;49m\u001b[43msum\u001b[49m\u001b[43m(\u001b[49m\u001b[43mexp_h2\u001b[49m\u001b[43m)\u001b[49m \u001b[38;5;241m+\u001b[39m \u001b[38;5;28mself\u001b[39m\u001b[38;5;241m.\u001b[39mb2  \u001b[38;5;66;03m# Softmax output\u001b[39;00m\n\u001b[1;32m     25\u001b[0m \u001b[38;5;28;01mreturn\u001b[39;00m y2\n",
      "File \u001b[0;32m~/Documents/Github/adrian.lams.cc/mnist-classifier/.venv/lib/python3.12/site-packages/numpy/_core/fromnumeric.py:2466\u001b[0m, in \u001b[0;36msum\u001b[0;34m(a, axis, dtype, out, keepdims, initial, where)\u001b[0m\n\u001b[1;32m   2463\u001b[0m         \u001b[38;5;28;01mreturn\u001b[39;00m out\n\u001b[1;32m   2464\u001b[0m     \u001b[38;5;28;01mreturn\u001b[39;00m res\n\u001b[0;32m-> 2466\u001b[0m \u001b[38;5;28;01mreturn\u001b[39;00m \u001b[43m_wrapreduction\u001b[49m\u001b[43m(\u001b[49m\n\u001b[1;32m   2467\u001b[0m \u001b[43m    \u001b[49m\u001b[43ma\u001b[49m\u001b[43m,\u001b[49m\u001b[43m \u001b[49m\u001b[43mnp\u001b[49m\u001b[38;5;241;43m.\u001b[39;49m\u001b[43madd\u001b[49m\u001b[43m,\u001b[49m\u001b[43m \u001b[49m\u001b[38;5;124;43m'\u001b[39;49m\u001b[38;5;124;43msum\u001b[39;49m\u001b[38;5;124;43m'\u001b[39;49m\u001b[43m,\u001b[49m\u001b[43m \u001b[49m\u001b[43maxis\u001b[49m\u001b[43m,\u001b[49m\u001b[43m \u001b[49m\u001b[43mdtype\u001b[49m\u001b[43m,\u001b[49m\u001b[43m \u001b[49m\u001b[43mout\u001b[49m\u001b[43m,\u001b[49m\n\u001b[1;32m   2468\u001b[0m \u001b[43m    \u001b[49m\u001b[43mkeepdims\u001b[49m\u001b[38;5;241;43m=\u001b[39;49m\u001b[43mkeepdims\u001b[49m\u001b[43m,\u001b[49m\u001b[43m \u001b[49m\u001b[43minitial\u001b[49m\u001b[38;5;241;43m=\u001b[39;49m\u001b[43minitial\u001b[49m\u001b[43m,\u001b[49m\u001b[43m \u001b[49m\u001b[43mwhere\u001b[49m\u001b[38;5;241;43m=\u001b[39;49m\u001b[43mwhere\u001b[49m\n\u001b[1;32m   2469\u001b[0m \u001b[43m\u001b[49m\u001b[43m)\u001b[49m\n",
      "File \u001b[0;32m~/Documents/Github/adrian.lams.cc/mnist-classifier/.venv/lib/python3.12/site-packages/numpy/_core/fromnumeric.py:84\u001b[0m, in \u001b[0;36m_wrapreduction\u001b[0;34m(obj, ufunc, method, axis, dtype, out, **kwargs)\u001b[0m\n\u001b[1;32m     82\u001b[0m             \u001b[38;5;28;01mreturn\u001b[39;00m reduction(axis\u001b[38;5;241m=\u001b[39maxis, dtype\u001b[38;5;241m=\u001b[39mdtype, out\u001b[38;5;241m=\u001b[39mout, \u001b[38;5;241m*\u001b[39m\u001b[38;5;241m*\u001b[39mpasskwargs)\n\u001b[1;32m     83\u001b[0m         \u001b[38;5;28;01melse\u001b[39;00m:\n\u001b[0;32m---> 84\u001b[0m             \u001b[38;5;28;01mreturn\u001b[39;00m \u001b[43mreduction\u001b[49m\u001b[43m(\u001b[49m\u001b[43maxis\u001b[49m\u001b[38;5;241;43m=\u001b[39;49m\u001b[43maxis\u001b[49m\u001b[43m,\u001b[49m\u001b[43m \u001b[49m\u001b[43mout\u001b[49m\u001b[38;5;241;43m=\u001b[39;49m\u001b[43mout\u001b[49m\u001b[43m,\u001b[49m\u001b[43m \u001b[49m\u001b[38;5;241;43m*\u001b[39;49m\u001b[38;5;241;43m*\u001b[39;49m\u001b[43mpasskwargs\u001b[49m\u001b[43m)\u001b[49m\n\u001b[1;32m     86\u001b[0m \u001b[38;5;28;01mreturn\u001b[39;00m ufunc\u001b[38;5;241m.\u001b[39mreduce(obj, axis, dtype, out, \u001b[38;5;241m*\u001b[39m\u001b[38;5;241m*\u001b[39mpasskwargs)\n",
      "\u001b[0;31mTypeError\u001b[0m: sum() received an invalid combination of arguments - got (out=NoneType, axis=NoneType, ), but expected one of:\n * (*, torch.dtype dtype = None)\n      didn't match because some of the keywords were incorrect: out, axis\n * (tuple of ints dim, bool keepdim = False, *, torch.dtype dtype = None)\n * (tuple of names dim, bool keepdim = False, *, torch.dtype dtype = None)\n"
     ]
    }
   ],
   "source": [
    "# Dummy model (untrained)\n",
    "dummy = MNISTClassifier(loss_fn=None)\n",
    "dummy_out = dummy.forward(x) # outputs probabilities for each class\n",
    "dummy_out"
   ]
  },
  {
   "cell_type": "code",
   "execution_count": 198,
   "metadata": {},
   "outputs": [],
   "source": [
    "# Define loss functions\n",
    "def cross_entropy_loss(out, y):\n",
    "    \"\"\"\n",
    "    idea: softmax outputs very small values (probabiltiies) for each class:\n",
    "        - take log of values to get bigger values (negative)\n",
    "        - take negative of log to get positive values\n",
    "        - if out[y] = 0, then -log(out[y]) = inf, so add a small value to avoid this\n",
    "    \"\"\"\n",
    "    return -np.log(out[y] + 1e-10)\n",
    "\n",
    "def mse_loss(out, y):\n",
    "    out_ohe = np.zeros_like(out)\n",
    "    return np.sum((out_ohe - y)**2)"
   ]
  },
  {
   "cell_type": "code",
   "execution_count": 205,
   "metadata": {},
   "outputs": [
    {
     "name": "stderr",
     "output_type": "stream",
     "text": [
      "/var/folders/qt/p78tc4gx2576_n2rl38t_gwr0000gn/T/ipykernel_19092/3520513835.py:17: DeprecationWarning: __array_wrap__ must accept context and return_scalar arguments (positionally) in the future. (Deprecated NumPy 2.0)\n",
      "  h1 = self.W1 @ x + self.w1\n"
     ]
    },
    {
     "data": {
      "text/plain": [
       "tensor([ 1.5618e-63,  7.4983e-73,  9.1680e-52,  1.3703e-66, 3.2184e-105,\n",
       "         1.0000e+00,  1.3626e-61,  1.7315e-96, 4.1539e-111,  6.3018e-55],\n",
       "       dtype=torch.float64)"
      ]
     },
     "execution_count": 205,
     "metadata": {},
     "output_type": "execute_result"
    }
   ],
   "source": [
    "model = MNISTClassifier(loss_fn=cross_entropy_loss)\n",
    "out = model.forward(x)\n",
    "out"
   ]
  },
  {
   "cell_type": "code",
   "execution_count": 206,
   "metadata": {},
   "outputs": [
    {
     "name": "stderr",
     "output_type": "stream",
     "text": [
      "/var/folders/qt/p78tc4gx2576_n2rl38t_gwr0000gn/T/ipykernel_19092/2917070253.py:9: DeprecationWarning: __array_wrap__ must accept context and return_scalar arguments (positionally) in the future. (Deprecated NumPy 2.0)\n",
      "  return -np.log(out[y] + 1e-10)\n"
     ]
    },
    {
     "data": {
      "text/plain": [
       "-1.000000082690371e-10"
      ]
     },
     "execution_count": 206,
     "metadata": {},
     "output_type": "execute_result"
    }
   ],
   "source": [
    "# Test the loss function\n",
    "model.loss(out, trainset[0][1]).item()"
   ]
  },
  {
   "cell_type": "code",
   "execution_count": null,
   "metadata": {},
   "outputs": [],
   "source": []
  }
 ],
 "metadata": {
  "kernelspec": {
   "display_name": ".venv",
   "language": "python",
   "name": "python3"
  },
  "language_info": {
   "codemirror_mode": {
    "name": "ipython",
    "version": 3
   },
   "file_extension": ".py",
   "mimetype": "text/x-python",
   "name": "python",
   "nbconvert_exporter": "python",
   "pygments_lexer": "ipython3",
   "version": "3.12.2"
  }
 },
 "nbformat": 4,
 "nbformat_minor": 2
}

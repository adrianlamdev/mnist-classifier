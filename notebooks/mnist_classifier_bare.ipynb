{
 "cells": [
  {
   "cell_type": "code",
   "execution_count": 217,
   "metadata": {},
   "outputs": [],
   "source": [
    "import torchvision\n",
    "import torchvision.transforms as transforms\n",
    "import torch\n",
    "from matplotlib import pyplot as plt\n",
    "import numpy as np"
   ]
  },
  {
   "cell_type": "code",
   "execution_count": 218,
   "metadata": {},
   "outputs": [
    {
     "name": "stdout",
     "output_type": "stream",
     "text": [
      "trainset: 60000\n",
      "testset: 10000\n"
     ]
    }
   ],
   "source": [
    "transform = transforms.ToTensor()\n",
    "\n",
    "batch_size = 128\n",
    "\n",
    "trainset = torchvision.datasets.MNIST(\n",
    "    root=\"../data\", train=True, download=True, transform=transform\n",
    ")\n",
    "trainloader = torch.utils.data.DataLoader(\n",
    "    trainset, batch_size=batch_size, shuffle=True, num_workers=2\n",
    ")\n",
    "\n",
    "testset = torchvision.datasets.MNIST(\n",
    "    root=\"../data\", train=False, download=True, transform=transform\n",
    ")\n",
    "testloader = torch.utils.data.DataLoader(\n",
    "    testset, batch_size=batch_size, shuffle=False, num_workers=2\n",
    ")\n",
    "\n",
    "print(\"trainset:\", len(trainset))\n",
    "print(\"testset:\", len(testset))\n"
   ]
  },
  {
   "cell_type": "code",
   "execution_count": 219,
   "metadata": {},
   "outputs": [
    {
     "name": "stdout",
     "output_type": "stream",
     "text": [
      "Shape: 28, 28\n"
     ]
    }
   ],
   "source": [
    "# Shape of an example\n",
    "print(f\"Shape: {len(trainset[0][0][0])}, {len(trainset[0][0][0][0])}\")"
   ]
  },
  {
   "cell_type": "code",
   "execution_count": 220,
   "metadata": {},
   "outputs": [
    {
     "data": {
      "text/plain": [
       "{0, 1, 2, 3, 4, 5, 6, 7, 8, 9}"
      ]
     },
     "execution_count": 220,
     "metadata": {},
     "output_type": "execute_result"
    }
   ],
   "source": [
    "# All labels in training set\n",
    "classes = set([y for _, y in trainset])\n",
    "classes"
   ]
  },
  {
   "cell_type": "code",
   "execution_count": 221,
   "metadata": {},
   "outputs": [],
   "source": [
    "# Function to show images\n",
    "def show_imgs(imgs):\n",
    "    imgs_data = [img for img, _ in imgs]\n",
    "    imgs_label = [label for _, label in imgs]\n",
    "    plt.figure(figsize=(10, 2))\n",
    "    for i, img in enumerate(imgs_data):\n",
    "        plt.subplot(1, len(imgs_data), i+1)\n",
    "        plt.imshow(img.reshape(28,28), cmap='gray')\n",
    "        plt.axis('off')\n",
    "    plt.tight_layout()\n",
    "    plt.show()\n",
    "\n",
    "    print(\"Labels:\", imgs_label)"
   ]
  },
  {
   "cell_type": "code",
   "execution_count": 222,
   "metadata": {},
   "outputs": [
    {
     "data": {
      "image/png": "[encoded data removed]",
      "text/plain": [
       "<Figure size 1000x200 with 10 Axes>"
      ]
     },
     "metadata": {},
     "output_type": "display_data"
    },
    {
     "name": "stdout",
     "output_type": "stream",
     "text": [
      "Labels: [5, 0, 4, 1, 9, 2, 1, 3, 1, 4]\n"
     ]
    }
   ],
   "source": [
    "sample_imgs = [trainset[i] for i in range(10)]\n",
    "show_imgs(sample_imgs)"
   ]
  },
  {
   "cell_type": "code",
   "execution_count": 387,
   "metadata": {},
   "outputs": [],
   "source": [
    "class MNISTClassifier:\n",
    "    def __init__(self, loss_fn, input_dim=784, hidden_dim=128, output_dim=10):\n",
    "        self.loss_fn = loss_fn\n",
    "\n",
    "        scale = 0.01\n",
    "        self.W1 = torch.tensor(np.random.randn(hidden_dim, input_dim) * scale, requires_grad=True)\n",
    "        self.W2 = torch.tensor(np.random.randn(output_dim, hidden_dim) * scale, requires_grad=True)\n",
    "\n",
    "        # internal biases for respective layers\n",
    "        self.w1 = torch.zeros(hidden_dim, requires_grad=True)\n",
    "        self.w2 = torch.zeros(output_dim, requires_grad=True)\n",
    "\n",
    "        # prediction biases\n",
    "        self.b1 = torch.zeros(hidden_dim, requires_grad=True)\n",
    "\n",
    "        self.current_loss = None\n",
    "\n",
    "    def forward(self, x):\n",
    "        h1 = self.W1 @ x + self.w1\n",
    "        y1 = torch.relu(h1) + self.b1\n",
    "        h2 = self.W2 @ y1 + self.w2\n",
    "    \n",
    "        y2 = torch.softmax(h2, dim=0)\n",
    "        return y2\n",
    "\n",
    "    def backward(self, x, y_true):\n",
    "        # Forward pass\n",
    "        h1 = self.W1 @ x + self.w1\n",
    "        y1 = torch.relu(h1) + self.b1\n",
    "        h2 = self.W2 @ y1 + self.w2\n",
    "        y2 = torch.softmax(h2, dim=0)\n",
    "    \n",
    "        # Compute gradients\n",
    "        dy2 = y2.clone()\n",
    "        dy2[y_true] -= 1\n",
    "    \n",
    "        # Gradients for second layer \n",
    "        dW2 = torch.outer(dy2, y1)\n",
    "        dw2 = dy2\n",
    "        \n",
    "        # First layer gradients\n",
    "        dy1 = self.W2.T @ dy2 \n",
    "        dh1 = dy1 * (h1 > 0).float()  # ReLU derivative\n",
    "        dW1 = torch.outer(dh1, x)\n",
    "        dw1 = dh1\n",
    "        db1 = dy1\n",
    "    \n",
    "        # Update weights\n",
    "        lr = 0.0001\n",
    "        with torch.no_grad():\n",
    "            self.W2 -= lr * dW2\n",
    "            self.w2 -= lr * dw2\n",
    "            self.W1 -= lr * dW1\n",
    "            self.w1 -= lr * dw1\n",
    "            self.b1 -= lr * db1\n",
    "            \n",
    "    def calculate_loss(self, y_pred, y_true):\n",
    "        self.current_loss = self.loss_fn(y_pred, y_true)\n",
    "        return self.loss_fn(y_pred, y_true)"
   ]
  },
  {
   "cell_type": "code",
   "execution_count": 388,
   "metadata": {},
   "outputs": [],
   "source": [
    "# Shape of single exanple\n",
    "trainset[0][0].shape # requires reshaping to 784 features\n",
    "\n",
    "x = torch.tensor(np.float64(trainset[0][0].reshape(784)))"
   ]
  },
  {
   "cell_type": "code",
   "execution_count": 389,
   "metadata": {},
   "outputs": [
    {
     "data": {
      "text/plain": [
       "tensor([0.0998, 0.1004, 0.0994, 0.1002, 0.0996, 0.0989, 0.0999, 0.1005, 0.0996,\n",
       "        0.1018], dtype=torch.float64)"
      ]
     },
     "execution_count": 389,
     "metadata": {},
     "output_type": "execute_result"
    }
   ],
   "source": [
    "# Dummy model (untrained)\n",
    "dummy = MNISTClassifier(loss_fn=None)\n",
    "dummy_out = dummy.forward(x) # outputs probabilities for each class\n",
    "dummy_out"
   ]
  },
  {
   "cell_type": "code",
   "execution_count": 390,
   "metadata": {},
   "outputs": [],
   "source": [
    "# Define loss functions\n",
    "def cross_entropy_loss(out, y):\n",
    "    \"\"\"\n",
    "    idea: softmax outputs very small values (probabiltiies) for each class:\n",
    "        - take log of values to get bigger values (negative)\n",
    "        - take negative of log to get positive values\n",
    "        - if out[y] = 0, then -log(out[y]) = inf, so add a small value to avoid this\n",
    "    \"\"\"\n",
    "    y_ohe = torch.zeros_like(out)\n",
    "    y_ohe[y] = 1.0\n",
    "\n",
    "    return -torch.sum(y_ohe * torch.log(out +1e-10))\n",
    "\n",
    "def mse_loss(out, y):\n",
    "    out_ohe = np.zeros_like(out)\n",
    "    return np.sum((out_ohe - y)**2)"
   ]
  },
  {
   "cell_type": "code",
   "execution_count": 391,
   "metadata": {},
   "outputs": [
    {
     "data": {
      "text/plain": [
       "tensor([0.1005, 0.1004, 0.0994, 0.1006, 0.1006, 0.0997, 0.1010, 0.0995, 0.0994,\n",
       "        0.0989], dtype=torch.float64)"
      ]
     },
     "execution_count": 391,
     "metadata": {},
     "output_type": "execute_result"
    }
   ],
   "source": [
    "model = MNISTClassifier(loss_fn=cross_entropy_loss)\n",
    "out = model.forward(x)\n",
    "out"
   ]
  },
  {
   "cell_type": "code",
   "execution_count": 392,
   "metadata": {},
   "outputs": [
    {
     "data": {
      "text/plain": [
       "2.305269302039126"
      ]
     },
     "execution_count": 392,
     "metadata": {},
     "output_type": "execute_result"
    }
   ],
   "source": [
    "# Test the loss function\n",
    "model.calculate_loss(out, trainset[0][1]).item()"
   ]
  },
  {
   "cell_type": "code",
   "execution_count": 393,
   "metadata": {},
   "outputs": [
    {
     "name": "stdout",
     "output_type": "stream",
     "text": [
      "Epoch [1/1], Step [0/60000], Loss: 2.3053\n",
      "Epoch [1/1], Step [1000/60000], Loss: 2.2998\n",
      "Epoch [1/1], Step [2000/60000], Loss: 2.3026\n",
      "Epoch [1/1], Step [3000/60000], Loss: 2.3097\n",
      "Epoch [1/1], Step [4000/60000], Loss: 2.2925\n",
      "Epoch [1/1], Step [5000/60000], Loss: 2.2967\n",
      "Epoch [1/1], Step [6000/60000], Loss: 2.2883\n",
      "Epoch [1/1], Step [7000/60000], Loss: 2.3090\n",
      "Epoch [1/1], Step [8000/60000], Loss: 2.2576\n",
      "Epoch [1/1], Step [9000/60000], Loss: 2.2942\n",
      "Epoch [1/1], Step [10000/60000], Loss: 2.2767\n",
      "Epoch [1/1], Step [11000/60000], Loss: 2.2587\n",
      "Epoch [1/1], Step [12000/60000], Loss: 2.2761\n",
      "Epoch [1/1], Step [13000/60000], Loss: 2.2769\n",
      "Epoch [1/1], Step [14000/60000], Loss: 2.2632\n",
      "Epoch [1/1], Step [15000/60000], Loss: 2.3257\n",
      "Epoch [1/1], Step [16000/60000], Loss: 2.2838\n",
      "Epoch [1/1], Step [17000/60000], Loss: 2.2539\n",
      "Epoch [1/1], Step [18000/60000], Loss: 2.3003\n",
      "Epoch [1/1], Step [19000/60000], Loss: 2.2801\n",
      "Epoch [1/1], Step [20000/60000], Loss: 2.3236\n",
      "Epoch [1/1], Step [21000/60000], Loss: 2.2590\n",
      "Epoch [1/1], Step [22000/60000], Loss: 2.2506\n",
      "Epoch [1/1], Step [23000/60000], Loss: 2.2414\n",
      "Epoch [1/1], Step [24000/60000], Loss: 2.2735\n",
      "Epoch [1/1], Step [25000/60000], Loss: 2.2788\n",
      "Epoch [1/1], Step [26000/60000], Loss: 2.2895\n",
      "Epoch [1/1], Step [27000/60000], Loss: 2.3266\n",
      "Epoch [1/1], Step [28000/60000], Loss: 2.1949\n",
      "Epoch [1/1], Step [29000/60000], Loss: 2.2226\n",
      "Epoch [1/1], Step [30000/60000], Loss: 2.1808\n",
      "Epoch [1/1], Step [31000/60000], Loss: 2.2671\n",
      "Epoch [1/1], Step [32000/60000], Loss: 2.2438\n",
      "Epoch [1/1], Step [33000/60000], Loss: 2.1985\n",
      "Epoch [1/1], Step [34000/60000], Loss: 2.2756\n",
      "Epoch [1/1], Step [35000/60000], Loss: 2.1046\n",
      "Epoch [1/1], Step [36000/60000], Loss: 2.2572\n",
      "Epoch [1/1], Step [37000/60000], Loss: 2.2360\n",
      "Epoch [1/1], Step [38000/60000], Loss: 2.2348\n",
      "Epoch [1/1], Step [39000/60000], Loss: 2.2641\n",
      "Epoch [1/1], Step [40000/60000], Loss: 2.0676\n",
      "Epoch [1/1], Step [41000/60000], Loss: 2.3446\n",
      "Epoch [1/1], Step [42000/60000], Loss: 1.9414\n",
      "Epoch [1/1], Step [43000/60000], Loss: 2.1979\n",
      "Epoch [1/1], Step [44000/60000], Loss: 1.2656\n",
      "Epoch [1/1], Step [45000/60000], Loss: 2.0014\n",
      "Epoch [1/1], Step [46000/60000], Loss: 2.1052\n",
      "Epoch [1/1], Step [47000/60000], Loss: 1.4063\n",
      "Epoch [1/1], Step [48000/60000], Loss: 2.1468\n",
      "Epoch [1/1], Step [49000/60000], Loss: 2.0398\n",
      "Epoch [1/1], Step [50000/60000], Loss: 1.9107\n",
      "Epoch [1/1], Step [51000/60000], Loss: 1.8281\n",
      "Epoch [1/1], Step [52000/60000], Loss: 1.9451\n",
      "Epoch [1/1], Step [53000/60000], Loss: 2.3135\n",
      "Epoch [1/1], Step [54000/60000], Loss: 2.2654\n",
      "Epoch [1/1], Step [55000/60000], Loss: 1.6532\n",
      "Epoch [1/1], Step [56000/60000], Loss: 1.5814\n",
      "Epoch [1/1], Step [57000/60000], Loss: 0.4459\n",
      "Epoch [1/1], Step [58000/60000], Loss: 2.0631\n",
      "Epoch [1/1], Step [59000/60000], Loss: 1.6321\n",
      "Epoch [1/1], Average Loss: 2.1299\n"
     ]
    }
   ],
   "source": [
    "epochs = 1\n",
    "all_losses = {\n",
    "    \"epoch\": [1],\n",
    "    \"loss\": []\n",
    "}\n",
    "\n",
    "# Classic old gradient descent\n",
    "for epoch in range(epochs):\n",
    "    epoch_loss = 0\n",
    "    \n",
    "    for i in range(len(trainset)):\n",
    "        img, label = trainset[i]\n",
    "        x = torch.tensor(np.float64(img.reshape(784)))\n",
    "        \n",
    "        output = model.forward(x)\n",
    "        \n",
    "        loss = model.calculate_loss(output, label)\n",
    "        epoch_loss += loss\n",
    "        \n",
    "        model.backward(x, label)\n",
    "        \n",
    "        if i % 1000 == 0:\n",
    "            print(f'Epoch [{epoch+1}/{epochs}], Step [{i}/{len(trainset)}], Loss: {loss:.4f}')\n",
    "    \n",
    "    avg_loss = epoch_loss / len(trainset)\n",
    "    all_losses.append(avg_loss)\n",
    "    print(f'Epoch [{epoch+1}/{epochs}], Average Loss: {avg_loss:.4f}')"
   ]
  },
  {
   "cell_type": "code",
   "execution_count": 395,
   "metadata": {},
   "outputs": [
    {
     "data": {
      "text/plain": [
       "[<matplotlib.lines.Line2D at 0x30b886ed0>]"
      ]
     },
     "execution_count": 395,
     "metadata": {},
     "output_type": "execute_result"
    },
    {
     "data": {
      "image/png": "[encoded data removed]",
      "text/plain": [
       "<Figure size 640x480 with 1 Axes>"
      ]
     },
     "metadata": {},
     "output_type": "display_data"
    }
   ],
   "source": [
    "plt.plot(all_losses)"
   ]
  },
  {
   "cell_type": "code",
   "execution_count": null,
   "metadata": {},
   "outputs": [],
   "source": []
  }
 ],
 "metadata": {
  "kernelspec": {
   "display_name": ".venv",
   "language": "python",
   "name": "python3"
  },
  "language_info": {
   "codemirror_mode": {
    "name": "ipython",
    "version": 3
   },
   "file_extension": ".py",
   "mimetype": "text/x-python",
   "name": "python",
   "nbconvert_exporter": "python",
   "pygments_lexer": "ipython3",
   "version": "3.12.2"
  }
 },
 "nbformat": 4,
 "nbformat_minor": 2
}
